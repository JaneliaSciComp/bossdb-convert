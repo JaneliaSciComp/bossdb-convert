{
 "cells": [
  {
   "cell_type": "markdown",
   "metadata": {},
   "source": [
    "### Script for downloading 3d image volume from bossdb.org and storing zarr or n5"
   ]
  },
  {
   "cell_type": "code",
   "execution_count": 8,
   "metadata": {},
   "outputs": [],
   "source": [
    "from intern import array\n",
    "\n",
    "channel = array(\"bossdb://kuan_phelps2020/drosophila_brain_120nm/drBrain_120nm_rec\", dtype=\"uint8\", resolution=0)"
   ]
  },
  {
   "cell_type": "code",
   "execution_count": 2,
   "metadata": {},
   "outputs": [
    {
     "data": {
      "text/plain": [
       "(3200, 3584, 3584)"
      ]
     },
     "execution_count": 2,
     "metadata": {},
     "output_type": "execute_result"
    }
   ],
   "source": [
    "channel.shape"
   ]
  },
  {
   "cell_type": "code",
   "execution_count": 3,
   "metadata": {},
   "outputs": [
    {
     "data": {
      "text/plain": [
       "((np.float64(120.0), np.float64(120.0), np.float64(120.0)), 'ZYX')"
      ]
     },
     "execution_count": 3,
     "metadata": {},
     "output_type": "execute_result"
    }
   ],
   "source": [
    "channel.voxel_size, channel.axis_order"
   ]
  },
  {
   "cell_type": "code",
   "execution_count": 4,
   "metadata": {},
   "outputs": [],
   "source": [
    "import tensorstore as ts\n",
    "import numpy as np"
   ]
  },
  {
   "cell_type": "code",
   "execution_count": 5,
   "metadata": {},
   "outputs": [],
   "source": [
    "zarr_out = ts.open({\n",
    "    \"driver\": \"zarr3\",\n",
    "    \"kvstore\": {\n",
    "        \"driver\": \"file\",\n",
    "        \"path\": \"/home/katzw/image-conversion/data.zarr\",\n",
    "    },\n",
    "    # \"metadata\": {\n",
    "    #     \"shape\": [channel.shape[0], channel.shape[1], channel.shape[2]],\n",
    "    #     \"chunk_grid\": {\n",
    "    #         \"name\": \"regular\", \n",
    "    #         \"configuration\": {\"chunk_shape\": [160, 160, 160]}\n",
    "    #     },\n",
    "    #     \"chunk_key_encoding\": {\"name\": \"default\"},\n",
    "    #     # \"codecs\": [\n",
    "    #     #     {\n",
    "    #     #         \"name\": \"blosc\", \n",
    "    #     #         \"configuration\": {\"cname\": \"lz4\", \"clevel\": 5}\n",
    "    #     #     }\n",
    "    #     # ],\n",
    "    #     \"data_type\": \"uint8\"\n",
    "    # },\n",
    "    # \"create\": True,\n",
    "    # \"delete_existing\": True\n",
    "}).result()"
   ]
  },
  {
   "cell_type": "code",
   "execution_count": 7,
   "metadata": {},
   "outputs": [],
   "source": [
    "n5_out = ts.open({\n",
    "    'driver': 'n5',\n",
    "    'kvstore': {\n",
    "        'driver': 'file',\n",
    "        'path': '/home/katzw/image-conversion/data.n5',\n",
    "    },\n",
    "    'metadata': {\n",
    "        'compression': {\n",
    "            'type': 'gzip'\n",
    "        },\n",
    "        'dataType': 'uint8',\n",
    "        'dimensions': [channel.shape[0], channel.shape[1], channel.shape[2]],\n",
    "        'blockSize': [160, 160, 160],\n",
    "    },\n",
    "    'create': True,\n",
    "    'delete_existing': True,\n",
    "}).result()"
   ]
  },
  {
   "cell_type": "code",
   "execution_count": 9,
   "metadata": {},
   "outputs": [],
   "source": [
    "chunk_size = (160, 160, 160)\n",
    "\n",
    "async def write_chunks(channel, array_out, chunk_size, start_indices=(0, 0, 0)):\n",
    "    z_chunks, y_chunks, x_chunks = [range(start, dim, chunk) for start, dim, chunk in zip(start_indices, channel.shape, chunk_size)]\n",
    "    \n",
    "    for z0 in z_chunks:\n",
    "        for y0 in y_chunks:\n",
    "            for x0 in x_chunks:\n",
    "                z1 = min(z0 + chunk_size[0], channel.shape[0])\n",
    "                y1 = min(y0 + chunk_size[1], channel.shape[1])\n",
    "                x1 = min(x0 + chunk_size[2], channel.shape[2])\n",
    "                \n",
    "                # Extract the chunk from the channel\n",
    "                chunk = channel[z0:z1, y0:y1, x0:x1]\n",
    "                \n",
    "                # Write the chunk to array_out\n",
    "                await array_out[z0:z1, y0:y1, x0:x1].write(chunk)\n",
    "                print(f\"wrote chunk {z0}:{z1}, {y0}:{y1}, {x0}:{x1}\")"
   ]
  },
  {
   "cell_type": "code",
   "execution_count": null,
   "metadata": {},
   "outputs": [],
   "source": [
    "start_indices = (0, 0, 0) # allows starting from different chunk if aborted before completion\n",
    "await write_chunks(channel, zarr_out, chunk_size, start_indices)"
   ]
  },
  {
   "cell_type": "code",
   "execution_count": null,
   "metadata": {},
   "outputs": [],
   "source": []
  }
 ],
 "metadata": {
  "kernelspec": {
   "display_name": "image-conversion",
   "language": "python",
   "name": "python3"
  },
  "language_info": {
   "codemirror_mode": {
    "name": "ipython",
    "version": 3
   },
   "file_extension": ".py",
   "mimetype": "text/x-python",
   "name": "python",
   "nbconvert_exporter": "python",
   "pygments_lexer": "ipython3",
   "version": "3.12.8"
  }
 },
 "nbformat": 4,
 "nbformat_minor": 2
}
